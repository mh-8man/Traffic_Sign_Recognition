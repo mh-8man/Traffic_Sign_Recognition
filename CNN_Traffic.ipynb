{
 "cells": [
  {
   "cell_type": "markdown",
   "id": "bb20daa5",
   "metadata": {},
   "source": [
    "This is the second fase.\n",
    "Which is making, training and testing the model.\n",
    "the data was preprocessed and are saved as .npy files in \"processed_data\" directory.\n",
    "To check the preprocessing check the \"PreProcessing.ipynb\" notebook file."
   ]
  },
  {
   "cell_type": "markdown",
   "id": "59ec6e21",
   "metadata": {},
   "source": [
    "# imports"
   ]
  },
  {
   "cell_type": "code",
   "execution_count": 1,
   "id": "49b2af08",
   "metadata": {},
   "outputs": [],
   "source": [
    "import os\n",
    "import numpy as np\n",
    "import pandas as pd\n",
    "import matplotlib.pyplot as plt\n",
    "import tensorflow as tf\n",
    "from sklearn.model_selection import train_test_split\n",
    "from tensorflow.keras.utils import to_categorical\n",
    "from tensorflow.keras.models import Sequential, load_model\n",
    "from tensorflow.keras.layers import Conv2D, MaxPool2D, Dense, Flatten, Dropout"
   ]
  },
  {
   "cell_type": "code",
   "execution_count": null,
   "id": "a622e7ba",
   "metadata": {},
   "outputs": [],
   "source": []
  }
 ],
 "metadata": {
  "interpreter": {
   "hash": "a8894775e8aeee242aa6e141c386e0510b6f2108a9b3d20c3f118f8cb925642c"
  },
  "kernelspec": {
   "display_name": "Python 3.8.8 64-bit ('base': conda)",
   "name": "python3"
  },
  "language_info": {
   "codemirror_mode": {
    "name": "ipython",
    "version": 3
   },
   "file_extension": ".py",
   "mimetype": "text/x-python",
   "name": "python",
   "nbconvert_exporter": "python",
   "pygments_lexer": "ipython3",
   "version": "3.8.8"
  }
 },
 "nbformat": 4,
 "nbformat_minor": 5
}
