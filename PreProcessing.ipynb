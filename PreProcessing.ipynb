{
 "cells": [
  {
   "cell_type": "markdown",
   "id": "a8612297",
   "metadata": {},
   "source": [
    "This is a preprocessing fase.\n",
    "data is stored in the \"data\" directory, and is seperated to train data and test data.\n",
    "This fase is going to preprocess the train and test data and save them as .npy files in \"processed_data\" directory.\n",
    "Making, training and testing the model is made in \"CNN_Traffic.ipynb\" notbook file."
   ]
  },
  {
   "cell_type": "markdown",
   "id": "e97769c0",
   "metadata": {},
   "source": [
    "# imports"
   ]
  },
  {
   "cell_type": "code",
   "execution_count": 54,
   "id": "e88db1c3",
   "metadata": {},
   "outputs": [],
   "source": [
    "import os\n",
    "import numpy as np\n",
    "import pandas as pd\n",
    "import matplotlib.pyplot as plt\n",
    "from PIL import Image"
   ]
  },
  {
   "cell_type": "markdown",
   "id": "ba759888",
   "metadata": {},
   "source": [
    "# Train data"
   ]
  },
  {
   "cell_type": "markdown",
   "id": "9cec3895",
   "metadata": {},
   "source": [
    "loading the train images located in \"train\" directory to data array and labels array "
   ]
  },
  {
   "cell_type": "code",
   "execution_count": 55,
   "id": "a699530e",
   "metadata": {},
   "outputs": [],
   "source": [
    "data =[] # where we are gonna store the data\n",
    "labels = [] # the correct labels for the images\n",
    "classes =43 \n",
    "project_path = os.getcwd() # current directory which the provided dataset is stored in ./data directory\n",
    "\n",
    "for i in range(classes):     \n",
    "    path = os.path.join(project_path,'data/train',str(i))     \n",
    "    images = os.listdir(path)\n",
    "    for img in images:\n",
    "        try:             \n",
    "            image = Image.open(path +'\\\\'+ img)             \n",
    "            image = image.resize((30,30)) #resizing the image\n",
    "            image = np.array(image) # making it an np array which is expected for the model\n",
    "            data.append(image)             \n",
    "            labels.append(i)\n",
    "        except Exception as e: # in case of an exception\n",
    "            print(e)\n",
    "        \n",
    "        \n",
    "# the data and images are expected to be np arrays\n",
    "data = np.array(data) \n",
    "labels = np.array(labels)\n",
    "\n",
    "\n",
    "assert data.shape[0] == labels.shape[0], \"data and lapels dont have the same length\""
   ]
  },
  {
   "cell_type": "code",
   "execution_count": 56,
   "id": "8bba830a",
   "metadata": {},
   "outputs": [
    {
     "name": "stdout",
     "output_type": "stream",
     "text": [
      "shape of data: (39209, 30, 30, 3)\n",
      "shape of labels: (39209,)\n"
     ]
    }
   ],
   "source": [
    "print(f\"shape of data: {data.shape}\")\n",
    "print(f\"shape of labels: {labels.shape}\")"
   ]
  },
  {
   "cell_type": "markdown",
   "id": "06fdfda6",
   "metadata": {},
   "source": [
    "saving the processed data as it is taking too long to make tha data and lables array."
   ]
  },
  {
   "cell_type": "code",
   "execution_count": 57,
   "id": "bb63dc7d",
   "metadata": {},
   "outputs": [],
   "source": [
    "# run it once to make the directory\n",
    "#os.mkdir(\"processed_data\") "
   ]
  },
  {
   "cell_type": "code",
   "execution_count": 58,
   "id": "ea5261d0",
   "metadata": {},
   "outputs": [],
   "source": [
    "# will be saved in processed_data directory\n",
    "np.save(\"./processed_data/data_train\",data)\n",
    "np.save(\"./processed_data/labels_train\",labels)"
   ]
  },
  {
   "cell_type": "code",
   "execution_count": 59,
   "id": "fcdac4a3",
   "metadata": {},
   "outputs": [
    {
     "name": "stdout",
     "output_type": "stream",
     "text": [
      "shape of data_train: (39209, 30, 30, 3)\n",
      "shape of labels_train: (39209,)\n"
     ]
    }
   ],
   "source": [
    "# check again to see if everything is alright\n",
    "data_train = np.load(\"./processed_data/data_train.npy\")\n",
    "labels_train = np.load(\"./processed_data/labels_train.npy\")\n",
    "\n",
    "assert data_train.shape[0] == labels_train.shape[0], \"data and lapels dont have the same length after loading\"\n",
    "assert data.shape == data_train.shape, \"train data before and after loading dont have the same shape\"\n",
    "assert labels.shape == labels_train.shape, \"train labels before and after loading dont have the same shape\"\n",
    "\n",
    "print(f\"shape of data_train: {data_train.shape}\")\n",
    "print(f\"shape of labels_train: {labels_train.shape}\")"
   ]
  },
  {
   "cell_type": "markdown",
   "id": "e41df1fb",
   "metadata": {},
   "source": [
    "# Test data"
   ]
  },
  {
   "cell_type": "markdown",
   "id": "85393dc3",
   "metadata": {},
   "source": [
    "Doing the same thing for the test data which is located in test directory"
   ]
  },
  {
   "cell_type": "code",
   "execution_count": 60,
   "id": "33a33a7b",
   "metadata": {},
   "outputs": [],
   "source": [
    "path = os.path.join(project_path,'data')     \n",
    "data = []\n",
    "labels = []\n",
    "\n",
    "test_csv = pd.read_csv(\"./data/test.csv\")\n",
    "labels = test_csv[\"ClassId\"].values\n",
    "images = test_csv[\"Path\"].values\n",
    "\n",
    "for img in images:\n",
    "    try:\n",
    "        image = Image.open(path +'\\\\'+ img)\n",
    "        image = image.resize((30,30))\n",
    "        image = np.array(image)\n",
    "        data.append(image)\n",
    "    except Exception as e: # in case of an exception\n",
    "            print(e)\n",
    "    \n",
    "data = np.array(data) \n",
    "labels = np.array(labels)\n",
    "\n",
    "assert data.shape[0] == labels.shape[0], \"test data and test lapels dont have the same length\""
   ]
  },
  {
   "cell_type": "code",
   "execution_count": 61,
   "id": "eb165a58",
   "metadata": {},
   "outputs": [
    {
     "name": "stdout",
     "output_type": "stream",
     "text": [
      "shape of data: (12630, 30, 30, 3)\n",
      "shape of labels: (12630,)\n"
     ]
    }
   ],
   "source": [
    "print(f\"shape of data: {data.shape}\")\n",
    "print(f\"shape of labels: {labels.shape}\")"
   ]
  },
  {
   "cell_type": "markdown",
   "id": "e6a2c115",
   "metadata": {},
   "source": [
    "saving the test data and test labels"
   ]
  },
  {
   "cell_type": "code",
   "execution_count": 62,
   "id": "d1f61f81",
   "metadata": {},
   "outputs": [],
   "source": [
    "np.save(\"./processed_data/data_test\",data)\n",
    "np.save(\"./processed_data/labels_test\",labels)"
   ]
  },
  {
   "cell_type": "code",
   "execution_count": 63,
   "id": "0015bc3a",
   "metadata": {},
   "outputs": [
    {
     "name": "stdout",
     "output_type": "stream",
     "text": [
      "shape of data_test: (12630, 30, 30, 3)\n",
      "shape of labels_test: (12630,)\n"
     ]
    }
   ],
   "source": [
    "# check again to see if everything is alright\n",
    "data_test = np.load(\"./processed_data/data_test.npy\")\n",
    "labels_test = np.load(\"./processed_data/labels_test.npy\")\n",
    "\n",
    "assert data_test.shape[0] == labels_test.shape[0], \"test data and test lapels dont have the same length after loading\"\n",
    "assert data.shape == data_test.shape, \"test data before and after loading dont have the same shape\"\n",
    "assert labels.shape == labels_test.shape, \"test labels before and after loading dont have the same shape\"\n",
    "\n",
    "print(f\"shape of data_test: {data_test.shape}\")\n",
    "print(f\"shape of labels_test: {labels_test.shape}\")"
   ]
  },
  {
   "cell_type": "code",
   "execution_count": null,
   "id": "40c1258f",
   "metadata": {},
   "outputs": [],
   "source": []
  },
  {
   "cell_type": "code",
   "execution_count": null,
   "id": "e9de7e5e",
   "metadata": {},
   "outputs": [],
   "source": []
  }
 ],
 "metadata": {
  "kernelspec": {
   "display_name": "Python 3",
   "language": "python",
   "name": "python3"
  },
  "language_info": {
   "codemirror_mode": {
    "name": "ipython",
    "version": 3
   },
   "file_extension": ".py",
   "mimetype": "text/x-python",
   "name": "python",
   "nbconvert_exporter": "python",
   "pygments_lexer": "ipython3",
   "version": "3.8.8"
  }
 },
 "nbformat": 4,
 "nbformat_minor": 5
}
