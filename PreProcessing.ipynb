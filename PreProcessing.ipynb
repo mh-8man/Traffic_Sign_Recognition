{
 "cells": [
  {
   "cell_type": "markdown",
   "id": "a8612297",
   "metadata": {},
   "source": [
    "This is a preprocessing fase.\n",
    "data is stored in the \"data\" directory, and is seperated to train data and test data.\n",
    "This fase is going to preprocess the train and test data and save them as .npy files in \"processed_data\" directory.\n",
    "Making, training and testing the models is the next fase.\n",
    "\n",
    "In case you want to make the gray scale data. Uncomment the lines after the (gray-scale) comment, and comment the lines wich have the same porpose."
   ]
  },
  {
   "cell_type": "markdown",
   "id": "e97769c0",
   "metadata": {},
   "source": [
    "# imports"
   ]
  },
  {
   "cell_type": "code",
   "execution_count": 1,
   "id": "e88db1c3",
   "metadata": {},
   "outputs": [],
   "source": [
    "import os\n",
    "import numpy as np\n",
    "import pandas as pd\n",
    "import matplotlib.pyplot as plt\n",
    "from PIL import Image"
   ]
  },
  {
   "cell_type": "markdown",
   "id": "ba759888",
   "metadata": {},
   "source": [
    "# Train data"
   ]
  },
  {
   "cell_type": "markdown",
   "id": "9cec3895",
   "metadata": {},
   "source": [
    "loading the train images located in \"train\" directory to data array and labels array "
   ]
  },
  {
   "cell_type": "code",
   "execution_count": 18,
   "id": "a699530e",
   "metadata": {},
   "outputs": [],
   "source": [
    "data =[] # where we are gonna store the data\n",
    "labels = [] # the correct labels for the images\n",
    "classes =43 \n",
    "project_path = os.getcwd() # current directory which the provided dataset is stored in ./data directory\n",
    "\n",
    "for i in range(classes):     \n",
    "    path = os.path.join(project_path,'data/train',str(i))     \n",
    "    images = os.listdir(path)\n",
    "    for img in images:\n",
    "        try:             \n",
    "            image = Image.open(path +'\\\\'+ img) # load       \n",
    "            #image = image.convert(\"L\") # grayScale\n",
    "            image = image.resize((30,30)) #resizing the image\n",
    "            image = np.array(image) # making it an np array which is expected for the model\n",
    "            #image = np.reshape(image,(30,30,1)) # add a third chanel for gray-scale\n",
    "            data.append(image)             \n",
    "            labels.append(i)\n",
    "        except Exception as e: # in case of an exception\n",
    "            print(e)\n",
    "        \n",
    "        \n",
    "# the data and images are expected to be np arrays\n",
    "data = np.array(data) \n",
    "labels = np.array(labels)\n",
    "\n",
    "\n",
    "assert data.shape[0] == labels.shape[0], \"data and lapels dont have the same length\""
   ]
  },
  {
   "cell_type": "code",
   "execution_count": 19,
   "id": "8bba830a",
   "metadata": {},
   "outputs": [
    {
     "name": "stdout",
     "output_type": "stream",
     "text": [
      "shape of data: (39209, 30, 30, 1)\n",
      "shape of labels: (39209,)\n"
     ]
    }
   ],
   "source": [
    "print(f\"shape of data: {data.shape}\")\n",
    "print(f\"shape of labels: {labels.shape}\")"
   ]
  },
  {
   "cell_type": "markdown",
   "id": "06fdfda6",
   "metadata": {},
   "source": [
    "saving the processed data as it is taking too long to make tha data and lables array.\n"
   ]
  },
  {
   "cell_type": "code",
   "execution_count": 20,
   "id": "ea5261d0",
   "metadata": {},
   "outputs": [],
   "source": [
    "# will be saved in processed_data directory\n",
    "np.save(\"./processed_data/data_train\",data)\n",
    "np.save(\"./processed_data/labels_train\",labels)\n",
    "\n",
    "# gray-scaled\n",
    "#np.save(\"./processed_data/data_train_gray\",data)\n",
    "#np.save(\"./processed_data/labels_train_gray\",labels)"
   ]
  },
  {
   "cell_type": "code",
   "execution_count": 21,
   "id": "fcdac4a3",
   "metadata": {},
   "outputs": [
    {
     "name": "stdout",
     "output_type": "stream",
     "text": [
      "shape of data_train: (39209, 30, 30, 1)\n",
      "shape of labels_train: (39209,)\n"
     ]
    }
   ],
   "source": [
    "# check again to see if everything is alright\n",
    "data_train = np.load(\"./processed_data/data_train.npy\")\n",
    "labels_train = np.load(\"./processed_data/labels_train.npy\")\n",
    "\n",
    "# gray-scale\n",
    "#data_train = np.load(\"./processed_data/data_train_gray.npy\")\n",
    "#labels_train = np.load(\"./processed_data/labels_train_gray.npy\")\n",
    "\n",
    "\n",
    "assert data_train.shape[0] == labels_train.shape[0], \"data and lapels dont have the same length after loading\"\n",
    "assert data.shape == data_train.shape, \"train data before and after loading dont have the same shape\"\n",
    "assert labels.shape == labels_train.shape, \"train labels before and after loading dont have the same shape\"\n",
    "\n",
    "print(f\"shape of data_train: {data_train.shape}\")\n",
    "print(f\"shape of labels_train: {labels_train.shape}\")"
   ]
  },
  {
   "cell_type": "markdown",
   "id": "e41df1fb",
   "metadata": {},
   "source": [
    "# Test data"
   ]
  },
  {
   "cell_type": "markdown",
   "id": "85393dc3",
   "metadata": {},
   "source": [
    "Doing the same thing for the test data which is located in test directory"
   ]
  },
  {
   "cell_type": "code",
   "execution_count": 22,
   "id": "33a33a7b",
   "metadata": {},
   "outputs": [],
   "source": [
    "path = os.path.join(project_path,'data')     \n",
    "data = []\n",
    "labels = []\n",
    "\n",
    "test_csv = pd.read_csv(\"./data/test.csv\")\n",
    "labels = test_csv[\"ClassId\"].values\n",
    "images = test_csv[\"Path\"].values\n",
    "\n",
    "for img in images:\n",
    "    try:\n",
    "        image = Image.open(path +'\\\\'+ img) # load\n",
    "        #image = image.convert(\"L\") # gray-scale\n",
    "        image = image.resize((30,30))\n",
    "        image = np.array(image)\n",
    "        #image = np.reshape(image,(30,30,1)) # add a third chanel (gray-scale)\n",
    "        data.append(image)\n",
    "    except Exception as e: # in case of an exception\n",
    "            print(e)\n",
    "    \n",
    "data = np.array(data) \n",
    "labels = np.array(labels)\n",
    "\n",
    "assert data.shape[0] == labels.shape[0], \"test data and test lapels dont have the same length\""
   ]
  },
  {
   "cell_type": "code",
   "execution_count": 23,
   "id": "eb165a58",
   "metadata": {},
   "outputs": [
    {
     "name": "stdout",
     "output_type": "stream",
     "text": [
      "shape of data: (12630, 30, 30, 1)\n",
      "shape of labels: (12630,)\n"
     ]
    }
   ],
   "source": [
    "print(f\"shape of data: {data.shape}\")\n",
    "print(f\"shape of labels: {labels.shape}\")"
   ]
  },
  {
   "cell_type": "markdown",
   "id": "e6a2c115",
   "metadata": {},
   "source": [
    "saving the test data and test labels"
   ]
  },
  {
   "cell_type": "code",
   "execution_count": 25,
   "id": "d1f61f81",
   "metadata": {},
   "outputs": [],
   "source": [
    "np.save(\"./processed_data/data_test\",data)\n",
    "np.save(\"./processed_data/labels_test\",labels)\n",
    "\n",
    "# gray-scale\n",
    "#np.save(\"./processed_data/data_test_gray\",data)\n",
    "#np.save(\"./processed_data/labels_test_gray\",labels)"
   ]
  },
  {
   "cell_type": "code",
   "execution_count": 26,
   "id": "0015bc3a",
   "metadata": {},
   "outputs": [
    {
     "name": "stdout",
     "output_type": "stream",
     "text": [
      "shape of data_test: (12630, 30, 30, 1)\n",
      "shape of labels_test: (12630,)\n"
     ]
    }
   ],
   "source": [
    "# check again to see if everything is alright\n",
    "data_test = np.load(\"./processed_data/data_test.npy\")\n",
    "labels_test = np.load(\"./processed_data/labels_test.npy\")\n",
    "\n",
    "#gray-scale\n",
    "#data_test = np.load(\"./processed_data/data_test_gray.npy\")\n",
    "#labels_test = np.load(\"./processed_data/labels_test_gray.npy\")\n",
    "\n",
    "\n",
    "assert data_test.shape[0] == labels_test.shape[0], \"test data and test lapels dont have the same length after loading\"\n",
    "assert data.shape == data_test.shape, \"test data before and after loading dont have the same shape\"\n",
    "assert labels.shape == labels_test.shape, \"test labels before and after loading dont have the same shape\"\n",
    "\n",
    "print(f\"shape of data_test: {data_test.shape}\")\n",
    "print(f\"shape of labels_test: {labels_test.shape}\")"
   ]
  },
  {
   "cell_type": "markdown",
   "id": "40c1258f",
   "metadata": {},
   "source": [
    "# visualisation "
   ]
  },
  {
   "cell_type": "markdown",
   "metadata": {},
   "source": [
    "making a smiple bar plot to show the number of items of each class in the training data.\n",
    "This indicates that the higher the number of a class-item the better the classification for this class is."
   ]
  },
  {
   "cell_type": "code",
   "execution_count": 10,
   "id": "e9de7e5e",
   "metadata": {},
   "outputs": [
    {
     "data": {
      "image/png": "[encoded data removed]",
      "text/plain": [
       "<Figure size 1080x720 with 1 Axes>"
      ]
     },
     "metadata": {
      "needs_background": "light"
     },
     "output_type": "display_data"
    }
   ],
   "source": [
    "train_df = pd.read_csv(\"./data/train.csv\")\n",
    "mean = train_df.groupby(\"ClassId\")[\"Path\"].nunique()\n",
    "mean = mean.to_numpy()\n",
    "\n",
    "#making a bar plot\n",
    "plt.figure(figsize=(15.,10.))\n",
    "plt.title(\"number of items of each class\")\n",
    "plt.bar(range(43),mean)\n",
    "plt.xlabel(\"unique classes\")\n",
    "plt.ylabel(\"number of training items\")\n",
    "plt.show()"
   ]
  },
  {
   "cell_type": "markdown",
   "metadata": {},
   "source": [
    "# Norwegian Traffic signes"
   ]
  },
  {
   "cell_type": "markdown",
   "metadata": {},
   "source": [
    "Preprocessing some Norwegian traffic signe pics.\n",
    "The pics are gonna be used to test the models against norwegian signes insted of the german signes that were used for training."
   ]
  },
  {
   "cell_type": "code",
   "execution_count": 27,
   "metadata": {},
   "outputs": [
    {
     "name": "stdout",
     "output_type": "stream",
     "text": [
      "(30, 30, 1)\n"
     ]
    }
   ],
   "source": [
    "project_path = os.getcwd()\n",
    "path = os.path.join(project_path,'data')     \n",
    "data = []\n",
    "labels = []\n",
    "\n",
    "nor_test_csv = pd.read_csv(\"./data/norwegian_signs.csv\")\n",
    "labels = nor_test_csv[\"ClassId\"].values\n",
    "images = nor_test_csv[\"Path\"].values\n",
    "\n",
    "for img in images:\n",
    "    try:\n",
    "        image = Image.open(path +'\\\\norwegian_signs/'+ img) # load\n",
    "        #image = image.convert(\"L\") # gray-scale\n",
    "        image = image.resize((30,30))\n",
    "        image = np.array(image)\n",
    "        #image = np.reshape(image,(30,30,1)) # add a third chanel (gray-scale)\n",
    "        data.append(image)\n",
    "    except Exception as e: # in case of an exception\n",
    "            print(e)\n",
    "    \n",
    "print(data[0].shape)\n",
    "data = np.array(data) \n",
    "labels = np.array(labels)\n",
    "\n",
    "assert data.shape[0] == labels.shape[0], \"test data and test labels dont have the same length\""
   ]
  },
  {
   "cell_type": "code",
   "execution_count": 28,
   "metadata": {},
   "outputs": [],
   "source": [
    "# save the pics\n",
    "np.save(\"./processed_data/data_nor_test\",data)\n",
    "np.save(\"./processed_data/labels_nor_test\",labels)\n",
    "\n",
    "#gray-scale\n",
    "#np.save(\"./processed_data/data_nor_test_gray\",data)\n",
    "#np.save(\"./processed_data/labels_nor_test_gray\",labels)\n"
   ]
  },
  {
   "cell_type": "code",
   "execution_count": 29,
   "metadata": {},
   "outputs": [
    {
     "name": "stdout",
     "output_type": "stream",
     "text": [
      "shape of data_nor_test: (46, 30, 30, 1)\n",
      "shape of labels_nor_test: (46,)\n"
     ]
    }
   ],
   "source": [
    "# check again to see if everything is alright\n",
    "data_nor_test = np.load(\"./processed_data/data_nor_test.npy\")\n",
    "labels_nor_test = np.load(\"./processed_data/labels_nor_test.npy\")\n",
    "\n",
    "# gray-scale\n",
    "#data_nor_test = np.load(\"./processed_data/data_nor_test_gray.npy\")\n",
    "#labels_nor_test = np.load(\"./processed_data/labels_nor_test_gray.npy\")\n",
    "\n",
    "\n",
    "assert data_nor_test.shape[0] == labels_nor_test.shape[0], \"test data and test lapels dont have the same length after loading\"\n",
    "assert data.shape == data_nor_test.shape, \"test data before and after loading dont have the same shape\"\n",
    "assert labels.shape == labels_nor_test.shape, \"test labels before and after loading dont have the same shape\"\n",
    "\n",
    "print(f\"shape of data_nor_test: {data_nor_test.shape}\")\n",
    "print(f\"shape of labels_nor_test: {labels_nor_test.shape}\")"
   ]
  },
  {
   "cell_type": "markdown",
   "id": "739d3cca",
   "metadata": {},
   "source": [
    "# Norwegian Meta signs"
   ]
  },
  {
   "cell_type": "markdown",
   "id": "d14b69cc",
   "metadata": {},
   "source": [
    "Preprosessing the norwegian meta images to test the model on norwegian signs without background noise."
   ]
  },
  {
   "cell_type": "code",
   "execution_count": 30,
   "id": "e97582fd",
   "metadata": {},
   "outputs": [
    {
     "name": "stdout",
     "output_type": "stream",
     "text": [
      "(30, 30, 1)\n"
     ]
    }
   ],
   "source": [
    "project_path = os.getcwd()\n",
    "path = os.path.join(project_path,'data')     \n",
    "data = []\n",
    "labels = []\n",
    "\n",
    "nor_test_csv = pd.read_csv(\"./data/norwegian_meta.csv\")\n",
    "labels = nor_test_csv[\"ClassId\"].values\n",
    "images = nor_test_csv[\"Path\"].values\n",
    "\n",
    "for img in images:\n",
    "    try:\n",
    "        image = Image.open(path +'\\\\norwegian_meta/'+ img) # load \n",
    "        #image = image.convert(\"L\") # gray-scale\n",
    "        image = image.resize((30,30))\n",
    "        image = np.array(image)\n",
    "        #image = np.reshape(image,(30,30,1)) # add a third chanel\n",
    "        data.append(image)\n",
    "    except Exception as e: # in case of an exception\n",
    "            print(e)\n",
    "    \n",
    "print(data[0].shape)\n",
    "data = np.array(data) \n",
    "labels = np.array(labels)\n",
    "\n",
    "assert data.shape[0] == labels.shape[0], \"test data and test labels dont have the same length\""
   ]
  },
  {
   "cell_type": "code",
   "execution_count": 31,
   "id": "7da917ca",
   "metadata": {},
   "outputs": [],
   "source": [
    "# save the pics\n",
    "np.save(\"./processed_data/data_nor_meta\",data)\n",
    "np.save(\"./processed_data/labels_nor_meta\",labels)\n",
    "\n",
    "# gray-scale\n",
    "#np.save(\"./processed_data/data_nor_meta_gray\",data)\n",
    "#np.save(\"./processed_data/labels_nor_meta_gray\",labels)"
   ]
  },
  {
   "cell_type": "code",
   "execution_count": 33,
   "id": "8772ea64",
   "metadata": {},
   "outputs": [
    {
     "name": "stdout",
     "output_type": "stream",
     "text": [
      "shape of data_nor_meta: (36, 30, 30, 1)\n",
      "shape of labels_nor_meta: (36,)\n"
     ]
    }
   ],
   "source": [
    "# check again to see if everything is alright\n",
    "data_nor_meta = np.load(\"./processed_data/data_nor_meta.npy\")\n",
    "labels_nor_meta = np.load(\"./processed_data/labels_nor_meta.npy\")\n",
    "\n",
    "\n",
    "# gray-scale\n",
    "#data_nor_meta = np.load(\"./processed_data/data_nor_meta_gray.npy\")\n",
    "#labels_nor_meta = np.load(\"./processed_data/labels_nor_meta_gray.npy\")\n",
    "\n",
    "assert data_nor_meta.shape[0] == labels_nor_meta.shape[0], \"meta data and meta labels dont have the same length after loading\"\n",
    "assert data.shape == data_nor_meta.shape, \"meta data before and after loading dont have the same shape\"\n",
    "assert labels.shape == labels_nor_meta.shape, \"meta labels before and after loading dont have the same shape\"\n",
    "\n",
    "print(f\"shape of data_nor_meta: {data_nor_meta.shape}\")\n",
    "print(f\"shape of labels_nor_meta: {labels_nor_meta.shape}\")"
   ]
  },
  {
   "cell_type": "markdown",
   "id": "82339e3c",
   "metadata": {},
   "source": [
    "# Norwegian cropped signs"
   ]
  },
  {
   "cell_type": "markdown",
   "id": "71d38b94",
   "metadata": {},
   "source": [
    "making norwegian cropped test sign numpy array."
   ]
  },
  {
   "cell_type": "code",
   "execution_count": 38,
   "id": "526ac1f9",
   "metadata": {},
   "outputs": [
    {
     "name": "stdout",
     "output_type": "stream",
     "text": [
      "(30, 30, 3)\n"
     ]
    }
   ],
   "source": [
    "project_path = os.getcwd()\n",
    "path = os.path.join(project_path,'data')     \n",
    "data = []\n",
    "labels = []\n",
    "\n",
    "nor_test_csv = pd.read_csv(\"./data/norwegian_signs.csv\")\n",
    "labels = nor_test_csv[\"ClassId\"].values\n",
    "images = nor_test_csv[\"Path\"].values\n",
    "\n",
    "for img in images:\n",
    "    try:\n",
    "        image = Image.open(path +'\\\\norwegian_cropped/'+ img)\n",
    "        #image = image.convert(\"L\") # gray-scale\n",
    "        image = image.resize((30,30))\n",
    "        image = np.array(image)\n",
    "        #image = np.reshape(image,(30,30,1)) # add a third chanel (gray-scale)\n",
    "        data.append(image)\n",
    "    except Exception as e: # in case of an exception\n",
    "            print(e)\n",
    "    \n",
    "print(data[0].shape)\n",
    "data = np.array(data) \n",
    "labels = np.array(labels)\n",
    "\n",
    "assert data.shape[0] == labels.shape[0], \"test data and test labels dont have the same length\""
   ]
  },
  {
   "cell_type": "code",
   "execution_count": 39,
   "id": "32b9a6e9",
   "metadata": {},
   "outputs": [],
   "source": [
    "# save the pics\n",
    "np.save(\"./processed_data/data_nor_test_cropped\",data)\n",
    "np.save(\"./processed_data/labels_nor_test_cropped\",labels)\n",
    "\n",
    "\n",
    "# gray-scale\n",
    "#np.save(\"./processed_data/data_nor_test_cropped_gray\",data)\n",
    "#np.save(\"./processed_data/labels_nor_test_cropped_gray\",labels)"
   ]
  },
  {
   "cell_type": "code",
   "execution_count": 41,
   "id": "1ad13f01",
   "metadata": {},
   "outputs": [
    {
     "name": "stdout",
     "output_type": "stream",
     "text": [
      "shape of data_nor_test: (46, 30, 30, 3)\n",
      "shape of labels_nor_test: (46,)\n"
     ]
    }
   ],
   "source": [
    "# check again to see if everything is alright\n",
    "data_nor_cropped = np.load(\"./processed_data/data_nor_test_cropped.npy\")\n",
    "labels_nor_cropped = np.load(\"./processed_data/labels_nor_test_cropped.npy\")\n",
    "\n",
    "# gray-scale\n",
    "#data_nor_cropped = np.load(\"./processed_data/data_nor_test_cropped_gray.npy\")\n",
    "#labels_nor_cropped = np.load(\"./processed_data/labels_nor_test_cropped_gray.npy\")\n",
    "\n",
    "\n",
    "\n",
    "assert data_nor_cropped.shape[0] == labels_nor_cropped.shape[0], \"test data and test lapels dont have the same length after loading\"\n",
    "assert data.shape == data_nor_cropped.shape, \"test data before and after loading dont have the same shape\"\n",
    "assert labels.shape == labels_nor_cropped.shape, \"test labels before and after loading dont have the same shape\"\n",
    "\n",
    "print(f\"shape of data_nor_test: {data_nor_cropped.shape}\")\n",
    "print(f\"shape of labels_nor_test: {labels_nor_cropped.shape}\")"
   ]
  },
  {
   "cell_type": "markdown",
   "id": "bda38a40",
   "metadata": {},
   "source": [
    "# makin German meta signs np array"
   ]
  },
  {
   "cell_type": "markdown",
   "id": "945fd28d",
   "metadata": {},
   "source": [
    "This will be used for final visualisation of the prediction"
   ]
  },
  {
   "cell_type": "code",
   "execution_count": 5,
   "id": "2cba746c",
   "metadata": {},
   "outputs": [
    {
     "name": "stdout",
     "output_type": "stream",
     "text": [
      "shape of data: (43, 30, 30, 4)\n"
     ]
    }
   ],
   "source": [
    "data =[] # where we are gonna store the data\n",
    "classes =43 \n",
    "project_path = os.getcwd() # current directory which the provided dataset is stored in ./data directory\n",
    "path = os.path.join(project_path,'data/Meta')\n",
    "for i in range(classes):     \n",
    "        \n",
    "    try:             \n",
    "        image = Image.open(path +'\\\\'+ f\"{i}.png\") # load       \n",
    "        image = image.resize((30,30)) #resizing the image\n",
    "        image = np.array(image) # making it an np array which is expected for the model\n",
    "        data.append(image)             \n",
    "    except Exception as e: # in case of an exception\n",
    "        print(e)\n",
    "        \n",
    "        \n",
    "# the data and images are expected to be np arrays\n",
    "data = np.array(data) \n",
    "\n",
    "print(f\"shape of data: {data.shape}\")"
   ]
  },
  {
   "cell_type": "code",
   "execution_count": 6,
   "id": "0e5e3117",
   "metadata": {},
   "outputs": [],
   "source": [
    "# will be saved in processed_data directory\n",
    "np.save(\"./processed_data/data_ger_meta\",data)"
   ]
  }
 ],
 "metadata": {
  "interpreter": {
   "hash": "a8894775e8aeee242aa6e141c386e0510b6f2108a9b3d20c3f118f8cb925642c"
  },
  "kernelspec": {
   "display_name": "Python 3.8.8 64-bit ('base': conda)",
   "name": "python3"
  },
  "language_info": {
   "codemirror_mode": {
    "name": "ipython",
    "version": 3
   },
   "file_extension": ".py",
   "mimetype": "text/x-python",
   "name": "python",
   "nbconvert_exporter": "python",
   "pygments_lexer": "ipython3",
   "version": "3.8.8"
  }
 },
 "nbformat": 4,
 "nbformat_minor": 5
}
