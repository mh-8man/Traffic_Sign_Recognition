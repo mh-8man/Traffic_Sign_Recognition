{
 "cells": [
  {
   "cell_type": "markdown",
   "metadata": {},
   "source": [
    "in this notebook. The models that are trained are gonna be tested on the norwegian traffik signs pics. "
   ]
  },
  {
   "cell_type": "markdown",
   "metadata": {},
   "source": [
    "# imports"
   ]
  },
  {
   "cell_type": "code",
   "execution_count": 35,
   "metadata": {},
   "outputs": [],
   "source": [
    "import os\n",
    "import numpy as np\n",
    "import pandas as pd\n",
    "import matplotlib.pyplot as plt\n",
    "from tensorflow.keras.models import load_model\n",
    "from sklearn.metrics import accuracy_score"
   ]
  },
  {
   "cell_type": "code",
   "execution_count": 36,
   "metadata": {},
   "outputs": [
    {
     "name": "stdout",
     "output_type": "stream",
     "text": [
      "shape of data_nor_test: (46, 30, 30, 3)\n",
      "shape of labels_nor_test: (46,)\n"
     ]
    }
   ],
   "source": [
    "# loading the norwegian test data\n",
    "path = os.getcwd()\n",
    "\n",
    "X = np.load( path + \"/processed_data/data_nor_test.npy\")\n",
    "y = np.load( path + \"/processed_data/labels_nor_test.npy\")\n",
    "\n",
    "print(f\"shape of data_nor_test: {X.shape}\")\n",
    "print(f\"shape of labels_nor_test: {y.shape}\")"
   ]
  },
  {
   "cell_type": "code",
   "execution_count": 37,
   "metadata": {},
   "outputs": [
    {
     "name": "stdout",
     "output_type": "stream",
     "text": [
      "Model: \"sequential_3\"\n",
      "_________________________________________________________________\n",
      "Layer (type)                 Output Shape              Param #   \n",
      "=================================================================\n",
      "conv2d_9 (Conv2D)            (None, 26, 26, 32)        2432      \n",
      "_________________________________________________________________\n",
      "conv2d_10 (Conv2D)           (None, 22, 22, 32)        25632     \n",
      "_________________________________________________________________\n",
      "max_pooling2d_6 (MaxPooling2 (None, 11, 11, 32)        0         \n",
      "_________________________________________________________________\n",
      "dropout_9 (Dropout)          (None, 11, 11, 32)        0         \n",
      "_________________________________________________________________\n",
      "conv2d_11 (Conv2D)           (None, 9, 9, 64)          18496     \n",
      "_________________________________________________________________\n",
      "max_pooling2d_7 (MaxPooling2 (None, 4, 4, 64)          0         \n",
      "_________________________________________________________________\n",
      "dropout_10 (Dropout)         (None, 4, 4, 64)          0         \n",
      "_________________________________________________________________\n",
      "flatten_3 (Flatten)          (None, 1024)              0         \n",
      "_________________________________________________________________\n",
      "dense_6 (Dense)              (None, 256)               262400    \n",
      "_________________________________________________________________\n",
      "dropout_11 (Dropout)         (None, 256)               0         \n",
      "_________________________________________________________________\n",
      "dense_7 (Dense)              (None, 43)                11051     \n",
      "=================================================================\n",
      "Total params: 320,011\n",
      "Trainable params: 320,011\n",
      "Non-trainable params: 0\n",
      "_________________________________________________________________\n"
     ]
    }
   ],
   "source": [
    "# loading the CNN model\n",
    "model = load_model(path + \"/models/CNN_Traffic_Sign.h5\")\n",
    "\n",
    "model.summary()"
   ]
  },
  {
   "cell_type": "code",
   "execution_count": 38,
   "metadata": {},
   "outputs": [
    {
     "name": "stdout",
     "output_type": "stream",
     "text": [
      "WARNING:tensorflow:6 out of the last 11 calls to <function Model.make_predict_function.<locals>.predict_function at 0x0000028DAA2794C0> triggered tf.function retracing. Tracing is expensive and the excessive number of tracings could be due to (1) creating @tf.function repeatedly in a loop, (2) passing tensors with different shapes, (3) passing Python objects instead of tensors. For (1), please define your @tf.function outside of the loop. For (2), @tf.function has experimental_relax_shapes=True option that relaxes argument shapes that can avoid unnecessary retracing. For (3), please refer to https://www.tensorflow.org/tutorials/customization/performance#python_or_tensor_args and https://www.tensorflow.org/api_docs/python/tf/function for  more details.\n",
      "0.2391304347826087\n"
     ]
    }
   ],
   "source": [
    "# getting the model predictions\n",
    "y_pred = np.argmax(model.predict(X), axis=1)\n",
    "\n",
    "# testing and getting accuracy score\n",
    "print(accuracy_score(y ,y_pred))"
   ]
  },
  {
   "cell_type": "code",
   "execution_count": 39,
   "metadata": {},
   "outputs": [
    {
     "name": "stdout",
     "output_type": "stream",
     "text": [
      "Model: \"sequential\"\n",
      "_________________________________________________________________\n",
      "Layer (type)                 Output Shape              Param #   \n",
      "=================================================================\n",
      "conv2d (Conv2D)              (None, 24, 24, 32)        4736      \n",
      "_________________________________________________________________\n",
      "conv2d_1 (Conv2D)            (None, 20, 20, 32)        25632     \n",
      "_________________________________________________________________\n",
      "conv2d_2 (Conv2D)            (None, 16, 16, 64)        51264     \n",
      "_________________________________________________________________\n",
      "conv2d_3 (Conv2D)            (None, 14, 14, 64)        36928     \n",
      "_________________________________________________________________\n",
      "max_pooling2d (MaxPooling2D) (None, 7, 7, 64)          0         \n",
      "_________________________________________________________________\n",
      "dropout (Dropout)            (None, 7, 7, 64)          0         \n",
      "_________________________________________________________________\n",
      "conv2d_4 (Conv2D)            (None, 5, 5, 64)          36928     \n",
      "_________________________________________________________________\n",
      "max_pooling2d_1 (MaxPooling2 (None, 2, 2, 64)          0         \n",
      "_________________________________________________________________\n",
      "dropout_1 (Dropout)          (None, 2, 2, 64)          0         \n",
      "_________________________________________________________________\n",
      "flatten (Flatten)            (None, 256)               0         \n",
      "_________________________________________________________________\n",
      "dense (Dense)                (None, 256)               65792     \n",
      "_________________________________________________________________\n",
      "dropout_2 (Dropout)          (None, 256)               0         \n",
      "_________________________________________________________________\n",
      "dense_1 (Dense)              (None, 43)                11051     \n",
      "=================================================================\n",
      "Total params: 232,331\n",
      "Trainable params: 232,331\n",
      "Non-trainable params: 0\n",
      "_________________________________________________________________\n"
     ]
    }
   ],
   "source": [
    "# loading the CNN model\n",
    "model = load_model(path + \"/models/Test_Model.h5\")\n",
    "\n",
    "model.summary()"
   ]
  },
  {
   "cell_type": "code",
   "execution_count": 40,
   "metadata": {},
   "outputs": [
    {
     "name": "stdout",
     "output_type": "stream",
     "text": [
      "WARNING:tensorflow:6 out of the last 11 calls to <function Model.make_predict_function.<locals>.predict_function at 0x0000028DA9DE2550> triggered tf.function retracing. Tracing is expensive and the excessive number of tracings could be due to (1) creating @tf.function repeatedly in a loop, (2) passing tensors with different shapes, (3) passing Python objects instead of tensors. For (1), please define your @tf.function outside of the loop. For (2), @tf.function has experimental_relax_shapes=True option that relaxes argument shapes that can avoid unnecessary retracing. For (3), please refer to https://www.tensorflow.org/tutorials/customization/performance#python_or_tensor_args and https://www.tensorflow.org/api_docs/python/tf/function for  more details.\n",
      "0.17391304347826086\n"
     ]
    }
   ],
   "source": [
    "# getting the model predictions\n",
    "y_pred = np.argmax(model.predict(X), axis=1)\n",
    "\n",
    "# testing and getting accuracy score\n",
    "print(accuracy_score(y ,y_pred))"
   ]
  },
  {
   "cell_type": "markdown",
   "metadata": {},
   "source": [
    "# Testing 2epoch model on norwegian images and german test data"
   ]
  },
  {
   "cell_type": "code",
   "execution_count": 51,
   "metadata": {},
   "outputs": [],
   "source": [
    "import os\n",
    "import numpy as np\n",
    "import pandas as pd\n",
    "import matplotlib.pyplot as plt\n",
    "from tensorflow.keras.models import load_model\n",
    "from sklearn.metrics import accuracy_score"
   ]
  },
  {
   "cell_type": "code",
   "execution_count": 52,
   "metadata": {},
   "outputs": [
    {
     "name": "stdout",
     "output_type": "stream",
     "text": [
      "shape of data_nor_test: (46, 30, 30, 3)\n",
      "shape of labels_nor_test: (46,)\n"
     ]
    }
   ],
   "source": [
    "# loading the norwegian test data\n",
    "path = os.getcwd()\n",
    "\n",
    "X = np.load( path + \"/processed_data/data_nor_test.npy\")\n",
    "y = np.load( path + \"/processed_data/labels_nor_test.npy\")\n",
    "\n",
    "print(f\"shape of data_nor_test: {X.shape}\")\n",
    "print(f\"shape of labels_nor_test: {y.shape}\")"
   ]
  },
  {
   "cell_type": "code",
   "execution_count": 53,
   "metadata": {},
   "outputs": [],
   "source": [
    "# loading the CNN model\n",
    "model = load_model(path + \"/models/Test_Model_2epoch.h5\")"
   ]
  },
  {
   "cell_type": "code",
   "execution_count": 54,
   "metadata": {},
   "outputs": [
    {
     "name": "stdout",
     "output_type": "stream",
     "text": [
      "WARNING:tensorflow:5 out of the last 404 calls to <function Model.make_predict_function.<locals>.predict_function at 0x0000028DB2E02280> triggered tf.function retracing. Tracing is expensive and the excessive number of tracings could be due to (1) creating @tf.function repeatedly in a loop, (2) passing tensors with different shapes, (3) passing Python objects instead of tensors. For (1), please define your @tf.function outside of the loop. For (2), @tf.function has experimental_relax_shapes=True option that relaxes argument shapes that can avoid unnecessary retracing. For (3), please refer to https://www.tensorflow.org/tutorials/customization/performance#python_or_tensor_args and https://www.tensorflow.org/api_docs/python/tf/function for  more details.\n",
      "Test_Model_2epoch.h5 on norwegian pictures:  0.10869565217391304\n"
     ]
    }
   ],
   "source": [
    "# getting the model predictions\n",
    "y_pred = np.argmax(model.predict(X), axis=1)\n",
    "\n",
    "# testing and getting accuracy score\n",
    "print(\"Test_Model_2epoch.h5 on norwegian pictures: \",accuracy_score(y ,y_pred))"
   ]
  },
  {
   "cell_type": "code",
   "execution_count": 55,
   "metadata": {},
   "outputs": [
    {
     "name": "stdout",
     "output_type": "stream",
     "text": [
      "shape of data_test: (12630, 30, 30, 3)\n",
      "shape of labels_test: (12630,)\n"
     ]
    }
   ],
   "source": [
    "X = np.load( path + \"/processed_data/data_test.npy\")\n",
    "y = np.load( path + \"/processed_data/labels_test.npy\")\n",
    "\n",
    "print(f\"shape of data_test: {X.shape}\")\n",
    "print(f\"shape of labels_test: {y.shape}\")"
   ]
  },
  {
   "cell_type": "code",
   "execution_count": 56,
   "metadata": {},
   "outputs": [
    {
     "name": "stdout",
     "output_type": "stream",
     "text": [
      "Test_Model_2epoch.h5 on test data:  0.7790182106096596\n"
     ]
    }
   ],
   "source": [
    "# getting the model predictions\n",
    "y_pred = np.argmax(model.predict(X), axis=1)\n",
    "\n",
    "# testing and getting accuracy score\n",
    "print(\"Test_Model_2epoch.h5 on test data: \",accuracy_score(y ,y_pred))"
   ]
  },
  {
   "cell_type": "markdown",
   "metadata": {},
   "source": [
    "# Testing norwegian meta signs"
   ]
  },
  {
   "cell_type": "code",
   "execution_count": 57,
   "metadata": {},
   "outputs": [],
   "source": [
    "import os\n",
    "import numpy as np\n",
    "import pandas as pd\n",
    "import matplotlib.pyplot as plt\n",
    "from tensorflow.keras.models import load_model\n",
    "from sklearn.metrics import accuracy_score"
   ]
  },
  {
   "cell_type": "code",
   "execution_count": 58,
   "metadata": {},
   "outputs": [
    {
     "name": "stdout",
     "output_type": "stream",
     "text": [
      "shape of data_nor_meta: (36, 30, 30, 3)\n",
      "shape of labels_nor_meta: (36,)\n"
     ]
    }
   ],
   "source": [
    "# loading the norwegian test data\n",
    "path = os.getcwd()\n",
    "\n",
    "X = np.load( path + \"/processed_data/data_nor_meta.npy\")\n",
    "y = np.load( path + \"/processed_data/labels_nor_meta.npy\")\n",
    "\n",
    "print(f\"shape of data_nor_meta: {X.shape}\")\n",
    "print(f\"shape of labels_nor_meta: {y.shape}\")"
   ]
  },
  {
   "cell_type": "code",
   "execution_count": 59,
   "metadata": {},
   "outputs": [],
   "source": [
    "# loading the CNN model\n",
    "model = load_model(path + \"/models/Test_Model.h5\")\n",
    "model2 = load_model(path + \"/models/CNN_Traffic_Sign.h5\")\n",
    "model3 = load_model(path + \"/models/Test_Model_2epoch.h5\")"
   ]
  },
  {
   "cell_type": "code",
   "execution_count": 60,
   "metadata": {},
   "outputs": [
    {
     "name": "stdout",
     "output_type": "stream",
     "text": [
      "Test_Model.h5:  0.6111111111111112\n",
      "CNN_Traccic_Sign.h5:  0.5555555555555556\n",
      "Test_Model_2epoch.h5:  0.5833333333333334\n"
     ]
    }
   ],
   "source": [
    "# getting the model predictions\n",
    "y_pred = np.argmax(model.predict(X), axis=1)\n",
    "y_pred2 = np.argmax(model2.predict(X), axis=1)\n",
    "y_pred3 = np.argmax(model3.predict(X), axis=1)\n",
    "# testing and getting accuracy score\n",
    "print(\"Test_Model.h5: \",accuracy_score(y ,y_pred))\n",
    "print(\"CNN_Traccic_Sign.h5: \",accuracy_score(y ,y_pred2))\n",
    "print(\"Test_Model_2epoch.h5: \",accuracy_score(y ,y_pred3))"
   ]
  }
 ],
 "metadata": {
  "interpreter": {
   "hash": "79c9fade3c0eb2420b3d16961ff7594c3c9a3f61106aeb14371016a7b5ee4689"
  },
  "kernelspec": {
   "display_name": "Python 3.8.8 64-bit ('base': conda)",
   "name": "python3"
  },
  "language_info": {
   "codemirror_mode": {
    "name": "ipython",
    "version": 3
   },
   "file_extension": ".py",
   "mimetype": "text/x-python",
   "name": "python",
   "nbconvert_exporter": "python",
   "pygments_lexer": "ipython3",
   "version": "3.8.8"
  },
  "orig_nbformat": 4
 },
 "nbformat": 4,
 "nbformat_minor": 2
}
