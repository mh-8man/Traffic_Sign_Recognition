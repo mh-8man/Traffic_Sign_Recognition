{
 "cells": [
  {
   "cell_type": "markdown",
   "metadata": {},
   "source": [
    "Notebook made to test the model with the gray scaled pics."
   ]
  },
  {
   "cell_type": "markdown",
   "metadata": {},
   "source": [
    "# imports"
   ]
  },
  {
   "cell_type": "code",
   "execution_count": 1,
   "metadata": {},
   "outputs": [],
   "source": [
    "import os\n",
    "import numpy as np\n",
    "import pandas as pd\n",
    "import matplotlib.pyplot as plt\n",
    "from tensorflow.keras.models import load_model\n",
    "from sklearn.metrics import accuracy_score"
   ]
  },
  {
   "cell_type": "code",
   "execution_count": 2,
   "metadata": {},
   "outputs": [
    {
     "name": "stdout",
     "output_type": "stream",
     "text": [
      "shape of data_nor_test: (46, 30, 30, 1)\n",
      "shape of labels_nor_test: (46,)\n"
     ]
    }
   ],
   "source": [
    "# loading the norwegian gray scale test data\n",
    "path = os.getcwd()\n",
    "\n",
    "X = np.load( path + \"/processed_data/data_nor_test_gray.npy\")\n",
    "y = np.load( path + \"/processed_data/labels_nor_test_gray.npy\")\n",
    "\n",
    "print(f\"shape of data_nor_test: {X.shape}\")\n",
    "print(f\"shape of labels_nor_test: {y.shape}\")"
   ]
  },
  {
   "cell_type": "code",
   "execution_count": 4,
   "metadata": {},
   "outputs": [
    {
     "name": "stdout",
     "output_type": "stream",
     "text": [
      "Model: \"sequential_2\"\n",
      "_________________________________________________________________\n",
      "Layer (type)                 Output Shape              Param #   \n",
      "=================================================================\n",
      "conv2d_2 (Conv2D)            (None, 28, 28, 32)        320       \n",
      "_________________________________________________________________\n",
      "conv2d_3 (Conv2D)            (None, 26, 26, 32)        9248      \n",
      "_________________________________________________________________\n",
      "average_pooling2d (AveragePo (None, 13, 13, 32)        0         \n",
      "_________________________________________________________________\n",
      "dropout (Dropout)            (None, 13, 13, 32)        0         \n",
      "_________________________________________________________________\n",
      "conv2d_4 (Conv2D)            (None, 11, 11, 64)        18496     \n",
      "_________________________________________________________________\n",
      "average_pooling2d_1 (Average (None, 5, 5, 64)          0         \n",
      "_________________________________________________________________\n",
      "dropout_1 (Dropout)          (None, 5, 5, 64)          0         \n",
      "_________________________________________________________________\n",
      "conv2d_5 (Conv2D)            (None, 3, 3, 128)         73856     \n",
      "_________________________________________________________________\n",
      "average_pooling2d_2 (Average (None, 1, 1, 128)         0         \n",
      "_________________________________________________________________\n",
      "dropout_2 (Dropout)          (None, 1, 1, 128)         0         \n",
      "_________________________________________________________________\n",
      "flatten (Flatten)            (None, 128)               0         \n",
      "_________________________________________________________________\n",
      "dense (Dense)                (None, 256)               33024     \n",
      "_________________________________________________________________\n",
      "dropout_3 (Dropout)          (None, 256)               0         \n",
      "_________________________________________________________________\n",
      "dense_1 (Dense)              (None, 43)                11051     \n",
      "=================================================================\n",
      "Total params: 145,995\n",
      "Trainable params: 145,995\n",
      "Non-trainable params: 0\n",
      "_________________________________________________________________\n"
     ]
    }
   ],
   "source": [
    "# loading the CNN model\n",
    "model = load_model(path + \"/models/CNN_Traffic_gen_gray.h5\")\n",
    "\n",
    "model.summary()"
   ]
  },
  {
   "cell_type": "code",
   "execution_count": 5,
   "metadata": {},
   "outputs": [
    {
     "name": "stdout",
     "output_type": "stream",
     "text": [
      "0.30434782608695654\n"
     ]
    }
   ],
   "source": [
    "# getting the model predictions\n",
    "y_pred = np.argmax(model.predict(X), axis=1)\n",
    "\n",
    "# testing and getting accuracy score\n",
    "print(accuracy_score(y ,y_pred))"
   ]
  },
  {
   "cell_type": "markdown",
   "metadata": {},
   "source": [
    "# testing the norwegian meta sign pics"
   ]
  },
  {
   "cell_type": "code",
   "execution_count": 6,
   "metadata": {},
   "outputs": [
    {
     "name": "stdout",
     "output_type": "stream",
     "text": [
      "shape of data_nor_meta: (36, 30, 30, 1)\n",
      "shape of labels_nor_meta: (36,)\n"
     ]
    }
   ],
   "source": [
    "# loading the norwegian test data\n",
    "path = os.getcwd()\n",
    "\n",
    "X = np.load( path + \"/processed_data/data_nor_meta_gray.npy\")\n",
    "y = np.load( path + \"/processed_data/labels_nor_meta_gray.npy\")\n",
    "\n",
    "print(f\"shape of data_nor_meta: {X.shape}\")\n",
    "print(f\"shape of labels_nor_meta: {y.shape}\")"
   ]
  },
  {
   "cell_type": "code",
   "execution_count": 7,
   "metadata": {},
   "outputs": [
    {
     "name": "stdout",
     "output_type": "stream",
     "text": [
      "0.6388888888888888\n"
     ]
    }
   ],
   "source": [
    "# getting the model predictions\n",
    "y_pred = np.argmax(model.predict(X), axis=1)\n",
    "\n",
    "# testing and getting accuracy score\n",
    "print(accuracy_score(y ,y_pred))"
   ]
  },
  {
   "cell_type": "markdown",
   "metadata": {},
   "source": [
    "# testing the norwegian cropped greyscaled test pics"
   ]
  },
  {
   "cell_type": "markdown",
   "metadata": {},
   "source": [
    "the cropped pics are made to be more inline with what the German test set is like."
   ]
  },
  {
   "cell_type": "code",
   "execution_count": 9,
   "metadata": {},
   "outputs": [
    {
     "name": "stdout",
     "output_type": "stream",
     "text": [
      "shape of data_nor_meta: (46, 30, 30, 1)\n",
      "shape of labels_nor_meta: (46,)\n"
     ]
    }
   ],
   "source": [
    "# loading the norwegian test data\n",
    "path = os.getcwd()\n",
    "\n",
    "X = np.load( path + \"/processed_data/data_nor_test_cropped_gray.npy\")\n",
    "y = np.load( path + \"/processed_data/labels_nor_test_cropped_gray.npy\")\n",
    "\n",
    "print(f\"shape of data_nor_meta: {X.shape}\")\n",
    "print(f\"shape of labels_nor_meta: {y.shape}\")"
   ]
  },
  {
   "cell_type": "code",
   "execution_count": 10,
   "metadata": {},
   "outputs": [
    {
     "name": "stdout",
     "output_type": "stream",
     "text": [
      "0.6521739130434783\n"
     ]
    }
   ],
   "source": [
    "# getting the model predictions\n",
    "y_pred = np.argmax(model.predict(X), axis=1)\n",
    "\n",
    "# testing and getting accuracy score\n",
    "print(accuracy_score(y ,y_pred))"
   ]
  }
 ],
 "metadata": {
  "interpreter": {
   "hash": "cf241346cec0deeeb6a775ff5a2f4e17f1ea70ec379cad8ba12b40daed51dc9f"
  },
  "kernelspec": {
   "display_name": "Python 3.9.6 64-bit",
   "language": "python",
   "name": "python3"
  },
  "language_info": {
   "codemirror_mode": {
    "name": "ipython",
    "version": 3
   },
   "file_extension": ".py",
   "mimetype": "text/x-python",
   "name": "python",
   "nbconvert_exporter": "python",
   "pygments_lexer": "ipython3",
   "version": "3.9.6"
  },
  "orig_nbformat": 4
 },
 "nbformat": 4,
 "nbformat_minor": 2
}
