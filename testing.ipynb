{
 "cells": [
  {
   "cell_type": "code",
   "execution_count": 7,
   "id": "7d4aa587",
   "metadata": {},
   "outputs": [],
   "source": [
    "import numpy as np\n",
    "import pandas as pd\n",
    "import matplotlib.pyplot as plt\n",
    "import tensorflow as tf\n",
    "import cv2\n",
    "from PIL import Image\n",
    "import os\n",
    "\n",
    "from sklearn.metrics import accuracy_score"
   ]
  },
  {
   "cell_type": "code",
   "execution_count": 8,
   "id": "ee25af45",
   "metadata": {},
   "outputs": [],
   "source": [
    "data = []\n",
    "labels = []\n",
    "\n",
    "height = 30\n",
    "width = 30\n",
    "channels = 3\n",
    "classes = 43\n",
    "n_inputs = height * width * channels"
   ]
  },
  {
   "cell_type": "code",
   "execution_count": 9,
   "id": "6db4ba77",
   "metadata": {},
   "outputs": [],
   "source": [
    "Cells = np.load(\"./processed_data/data_train.npy\")\n",
    "labels = np.load(\"./processed_data/labels_train.npy\")\n",
    "\n",
    "\n",
    "# Spliting the images into train and validation sets\n",
    "(X_train, X_val) = Cells[(int)(0.2 * len(labels)):], Cells[:(int)(0.2 * len(labels))]\n",
    "X_train = X_train.astype('float32') / 255\n",
    "X_val = X_val.astype('float32') / 255\n",
    "(y_train, y_val) = labels[(int)(0.2 * len(labels)):], labels[:(int)(0.2 * len(labels))]\n",
    "\n",
    "# Using one hote encoding for the train and validation labels\n",
    "from keras.utils import to_categorical\n",
    "\n",
    "y_train = to_categorical(y_train, 43)\n",
    "y_val = to_categorical(y_val, 43)\n"
   ]
  },
  {
   "cell_type": "code",
   "execution_count": 10,
   "id": "72cd20cd",
   "metadata": {},
   "outputs": [],
   "source": [
    "# Definition of the DNN model\n",
    "\n",
    "from keras.models import Sequential\n",
    "from keras.layers import Conv2D, MaxPool2D, Dense, Flatten, Dropout\n",
    "\n",
    "model = Sequential()\n",
    "model.add(Conv2D(filters=32, kernel_size=(5, 5), activation='relu', input_shape=X_train.shape[1:]))\n",
    "model.add(Conv2D(filters=64, kernel_size=(3, 3), activation='relu'))\n",
    "model.add(MaxPool2D(pool_size=(2, 2)))\n",
    "model.add(Dropout(rate=0.25))\n",
    "model.add(Conv2D(filters=64, kernel_size=(3, 3), activation='relu'))\n",
    "model.add(MaxPool2D(pool_size=(2, 2)))\n",
    "model.add(Dropout(rate=0.25))\n",
    "model.add(Flatten())\n",
    "model.add(Dense(256, activation='relu'))\n",
    "model.add(Dropout(rate=0.5))\n",
    "model.add(Dense(43, activation='softmax'))\n",
    "\n",
    "# Compilation of the model\n",
    "model.compile(\n",
    "    loss='categorical_crossentropy',\n",
    "    optimizer='adam',\n",
    "    metrics=['accuracy']\n",
    ")\n"
   ]
  },
  {
   "cell_type": "code",
   "execution_count": 11,
   "id": "5beb9d0a",
   "metadata": {},
   "outputs": [
    {
     "name": "stdout",
     "output_type": "stream",
     "text": [
      "Epoch 1/5\n",
      "981/981 [==============================] - 37s 37ms/step - loss: 1.0387 - accuracy: 0.7111 - val_loss: 17.2024 - val_accuracy: 0.1629\n",
      "Epoch 2/5\n",
      "981/981 [==============================] - 37s 38ms/step - loss: 0.1822 - accuracy: 0.9445 - val_loss: 22.1904 - val_accuracy: 0.1928\n",
      "Epoch 3/5\n",
      "981/981 [==============================] - 36s 36ms/step - loss: 0.1084 - accuracy: 0.9682 - val_loss: 23.5527 - val_accuracy: 0.2019\n",
      "Epoch 4/5\n",
      "981/981 [==============================] - 36s 37ms/step - loss: 0.0777 - accuracy: 0.9772 - val_loss: 29.1317 - val_accuracy: 0.2043\n",
      "Epoch 5/5\n",
      "981/981 [==============================] - 35s 36ms/step - loss: 0.0646 - accuracy: 0.9802 - val_loss: 21.8207 - val_accuracy: 0.2095\n"
     ]
    },
    {
     "data": {
      "text/plain": [
       "<matplotlib.legend.Legend at 0x248504d53d0>"
      ]
     },
     "execution_count": 11,
     "metadata": {},
     "output_type": "execute_result"
    },
    {
     "data": {
      "image/png": "[encoded data removed]",
      "text/plain": [
       "<Figure size 432x288 with 1 Axes>"
      ]
     },
     "metadata": {
      "needs_background": "light"
     },
     "output_type": "display_data"
    },
    {
     "data": {
      "image/png": "[encoded data removed]",
      "text/plain": [
       "<Figure size 432x288 with 1 Axes>"
      ]
     },
     "metadata": {
      "needs_background": "light"
     },
     "output_type": "display_data"
    }
   ],
   "source": [
    "# using ten epochs for the training and saving the accuracy for each epoch\n",
    "epochs = 5\n",
    "history = model.fit(X_train, y_train, batch_size=32, epochs=epochs,\n",
    "                    validation_data=(X_val, y_val))\n",
    "\n",
    "# Display of the accuracy and the loss values\n",
    "import matplotlib.pyplot as plt\n",
    "\n",
    "plt.figure(0)\n",
    "plt.plot(history.history['accuracy'], label='training accuracy')\n",
    "plt.plot(history.history['val_accuracy'], label='val accuracy')\n",
    "plt.title('Accuracy')\n",
    "plt.xlabel('epochs')\n",
    "plt.ylabel('accuracy')\n",
    "plt.legend()\n",
    "\n",
    "plt.figure(1)\n",
    "plt.plot(history.history['loss'], label='training loss')\n",
    "plt.plot(history.history['val_loss'], label='val loss')\n",
    "plt.title('Loss')\n",
    "plt.xlabel('epochs')\n",
    "plt.ylabel('loss')\n",
    "plt.legend()\n"
   ]
  },
  {
   "cell_type": "code",
   "execution_count": 14,
   "id": "200374ca",
   "metadata": {},
   "outputs": [],
   "source": [
    "# Predicting with the test data\n",
    "labels = np.load(\"./processed_data/labels_test.npy\")\n",
    "\n",
    "\n",
    "X_test = np.load(\"./processed_data/data_test.npy\")\n",
    "\n",
    "#pred = model.predict_classes(X_test)\n",
    "pred = np.argmax(model.predict(X_test), axis=-1)\n",
    "# Accuracy with the test data"
   ]
  },
  {
   "cell_type": "code",
   "execution_count": 15,
   "id": "49021ce1",
   "metadata": {},
   "outputs": [
    {
     "data": {
      "text/plain": [
       "0.7866983372921615"
      ]
     },
     "execution_count": 15,
     "metadata": {},
     "output_type": "execute_result"
    }
   ],
   "source": [
    "accuracy_score(y_test, pred)"
   ]
  },
  {
   "cell_type": "code",
   "execution_count": null,
   "id": "26297b1e",
   "metadata": {},
   "outputs": [],
   "source": []
  }
 ],
 "metadata": {
  "interpreter": {
   "hash": "79c9fade3c0eb2420b3d16961ff7594c3c9a3f61106aeb14371016a7b5ee4689"
  },
  "kernelspec": {
   "display_name": "Python 3.8.8 64-bit ('base': conda)",
   "name": "python3"
  },
  "language_info": {
   "codemirror_mode": {
    "name": "ipython",
    "version": 3
   },
   "file_extension": ".py",
   "mimetype": "text/x-python",
   "name": "python",
   "nbconvert_exporter": "python",
   "pygments_lexer": "ipython3",
   "version": "3.8.8"
  }
 },
 "nbformat": 4,
 "nbformat_minor": 5
}
