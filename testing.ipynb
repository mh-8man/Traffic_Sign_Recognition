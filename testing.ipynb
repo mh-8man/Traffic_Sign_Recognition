{
 "cells": [
  {
   "cell_type": "code",
   "execution_count": 1,
   "id": "7d4aa587",
   "metadata": {},
   "outputs": [],
   "source": [
    "import numpy as np\n",
    "import pandas as pd\n",
    "import matplotlib.pyplot as plt\n",
    "import tensorflow as tf\n",
    "import cv2\n",
    "from PIL import Image\n",
    "import os\n",
    "\n",
    "from sklearn.metrics import accuracy_score"
   ]
  },
  {
   "cell_type": "code",
   "execution_count": 2,
   "id": "ee25af45",
   "metadata": {},
   "outputs": [],
   "source": [
    "data = []\n",
    "labels = []\n",
    "\n",
    "height = 30\n",
    "width = 30\n",
    "channels = 3\n",
    "classes = 43\n",
    "n_inputs = height * width * channels"
   ]
  },
  {
   "cell_type": "code",
   "execution_count": 3,
   "id": "6db4ba77",
   "metadata": {},
   "outputs": [],
   "source": [
    "Cells = np.load(\"./processed_data/data_train.npy\")\n",
    "labels = np.load(\"./processed_data/labels_train.npy\")\n",
    "\n",
    "\n",
    "# Spliting the images into train and validation sets\n",
    "(X_train, X_val) = Cells[(int)(0.2 * len(labels)):], Cells[:(int)(0.2 * len(labels))]\n",
    "X_train = X_train.astype('float32') / 255\n",
    "X_val = X_val.astype('float32') / 255\n",
    "(y_train, y_val) = labels[(int)(0.2 * len(labels)):], labels[:(int)(0.2 * len(labels))]\n",
    "\n",
    "# Using one hote encoding for the train and validation labels\n",
    "from keras.utils import to_categorical\n",
    "\n",
    "y_train = to_categorical(y_train, 43)\n",
    "y_val = to_categorical(y_val, 43)\n"
   ]
  },
  {
   "cell_type": "code",
   "execution_count": 4,
   "id": "72cd20cd",
   "metadata": {},
   "outputs": [],
   "source": [
    "# Definition of the DNN model\n",
    "\n",
    "from keras.models import Sequential\n",
    "from keras.layers import Conv2D, MaxPool2D, Dense, Flatten, Dropout\n",
    "\n",
    "model = Sequential()\n",
    "model.add(Conv2D(filters=32, kernel_size=(7,7), activation='relu', input_shape=X_train.shape[1:]))\n",
    "model.add(Conv2D(filters=32, kernel_size=(5, 5), activation='relu'))\n",
    "model.add(Conv2D(filters=64, kernel_size=(5, 5), activation='relu'))\n",
    "model.add(Conv2D(filters=64, kernel_size=(3, 3), activation='relu'))\n",
    "model.add(MaxPool2D(pool_size=(2, 2)))\n",
    "model.add(Dropout(rate=0.25))\n",
    "model.add(Conv2D(filters=64, kernel_size=(3, 3), activation='relu'))\n",
    "model.add(MaxPool2D(pool_size=(2, 2)))\n",
    "model.add(Dropout(rate=0.25))\n",
    "model.add(Flatten())\n",
    "model.add(Dense(256, activation='relu'))\n",
    "model.add(Dropout(rate=0.5))\n",
    "model.add(Dense(43, activation='softmax'))\n",
    "\n",
    "# Compilation of the model\n",
    "model.compile(\n",
    "    loss='categorical_crossentropy',\n",
    "    optimizer='adam',\n",
    "    metrics=['accuracy']\n",
    ")\n"
   ]
  },
  {
   "cell_type": "code",
   "execution_count": 5,
   "id": "5beb9d0a",
   "metadata": {},
   "outputs": [
    {
     "name": "stdout",
     "output_type": "stream",
     "text": [
      "Epoch 1/20\n",
      "981/981 [==============================] - 61s 62ms/step - loss: 1.5077 - accuracy: 0.5811 - val_loss: 19.3365 - val_accuracy: 0.1363\n",
      "Epoch 2/20\n",
      "981/981 [==============================] - 61s 62ms/step - loss: 0.2754 - accuracy: 0.9191 - val_loss: 23.1074 - val_accuracy: 0.1973\n",
      "Epoch 3/20\n",
      "981/981 [==============================] - 61s 62ms/step - loss: 0.1554 - accuracy: 0.9553 - val_loss: 28.4240 - val_accuracy: 0.2120\n",
      "Epoch 4/20\n",
      "981/981 [==============================] - 61s 62ms/step - loss: 0.1146 - accuracy: 0.9674 - val_loss: 29.1412 - val_accuracy: 0.1965\n",
      "Epoch 5/20\n",
      "981/981 [==============================] - 63s 64ms/step - loss: 0.0989 - accuracy: 0.9719 - val_loss: 27.8182 - val_accuracy: 0.2108\n",
      "Epoch 6/20\n",
      "981/981 [==============================] - 62s 63ms/step - loss: 0.0827 - accuracy: 0.9769 - val_loss: 29.1338 - val_accuracy: 0.2109\n",
      "Epoch 7/20\n",
      "981/981 [==============================] - 61s 63ms/step - loss: 0.0820 - accuracy: 0.9781 - val_loss: 39.7018 - val_accuracy: 0.2055\n",
      "Epoch 8/20\n",
      "981/981 [==============================] - 61s 62ms/step - loss: 0.0669 - accuracy: 0.9811 - val_loss: 33.3482 - val_accuracy: 0.2137\n",
      "Epoch 9/20\n",
      "981/981 [==============================] - 61s 62ms/step - loss: 0.0688 - accuracy: 0.9812 - val_loss: 31.4294 - val_accuracy: 0.1961\n",
      "Epoch 10/20\n",
      "981/981 [==============================] - 61s 62ms/step - loss: 0.0604 - accuracy: 0.9836 - val_loss: 39.2996 - val_accuracy: 0.2084\n",
      "Epoch 11/20\n",
      "981/981 [==============================] - 63s 65ms/step - loss: 0.0559 - accuracy: 0.9850 - val_loss: 39.8026 - val_accuracy: 0.2122\n",
      "Epoch 12/20\n",
      "981/981 [==============================] - 63s 64ms/step - loss: 0.0661 - accuracy: 0.9837 - val_loss: 46.6459 - val_accuracy: 0.2129\n",
      "Epoch 13/20\n",
      "981/981 [==============================] - 64s 65ms/step - loss: 0.0482 - accuracy: 0.9872 - val_loss: 53.1504 - val_accuracy: 0.2051\n",
      "Epoch 14/20\n",
      "981/981 [==============================] - 62s 64ms/step - loss: 0.0489 - accuracy: 0.9864 - val_loss: 51.9838 - val_accuracy: 0.2135\n",
      "Epoch 15/20\n",
      "981/981 [==============================] - 62s 63ms/step - loss: 0.0501 - accuracy: 0.9862 - val_loss: 53.0760 - val_accuracy: 0.2116\n",
      "Epoch 16/20\n",
      "981/981 [==============================] - 62s 63ms/step - loss: 0.0483 - accuracy: 0.9876 - val_loss: 45.3606 - val_accuracy: 0.2164\n",
      "Epoch 17/20\n",
      "981/981 [==============================] - 61s 63ms/step - loss: 0.0520 - accuracy: 0.9872 - val_loss: 43.7867 - val_accuracy: 0.2117\n",
      "Epoch 18/20\n",
      "981/981 [==============================] - 61s 62ms/step - loss: 0.0467 - accuracy: 0.9880 - val_loss: 55.2540 - val_accuracy: 0.2134\n",
      "Epoch 19/20\n",
      "981/981 [==============================] - 56s 57ms/step - loss: 0.0541 - accuracy: 0.9867 - val_loss: 63.7587 - val_accuracy: 0.2109\n",
      "Epoch 20/20\n",
      "981/981 [==============================] - 57s 58ms/step - loss: 0.0436 - accuracy: 0.9892 - val_loss: 72.6765 - val_accuracy: 0.2132\n"
     ]
    },
    {
     "data": {
      "text/plain": [
       "<matplotlib.legend.Legend at 0x211396c5340>"
      ]
     },
     "execution_count": 5,
     "metadata": {},
     "output_type": "execute_result"
    },
    {
     "data": {
      "image/png": "[encoded data removed]",
      "text/plain": [
       "<Figure size 432x288 with 1 Axes>"
      ]
     },
     "metadata": {
      "needs_background": "light"
     },
     "output_type": "display_data"
    },
    {
     "data": {
      "image/png": "[encoded data removed]",
      "text/plain": [
       "<Figure size 432x288 with 1 Axes>"
      ]
     },
     "metadata": {
      "needs_background": "light"
     },
     "output_type": "display_data"
    }
   ],
   "source": [
    "# using ten epochs for the training and saving the accuracy for each epoch\n",
    "epochs = 20\n",
    "history = model.fit(X_train, y_train, batch_size=32, epochs=epochs,\n",
    "                    validation_data=(X_val, y_val))\n",
    "\n",
    "# Display of the accuracy and the loss values\n",
    "import matplotlib.pyplot as plt\n",
    "\n",
    "plt.figure(0)\n",
    "plt.plot(history.history['accuracy'], label='training accuracy')\n",
    "plt.plot(history.history['val_accuracy'], label='val accuracy')\n",
    "plt.title('Accuracy')\n",
    "plt.xlabel('epochs')\n",
    "plt.ylabel('accuracy')\n",
    "plt.legend()\n",
    "\n",
    "plt.figure(1)\n",
    "plt.plot(history.history['loss'], label='training loss')\n",
    "plt.plot(history.history['val_loss'], label='val loss')\n",
    "plt.title('Loss')\n",
    "plt.xlabel('epochs')\n",
    "plt.ylabel('loss')\n",
    "plt.legend()\n"
   ]
  },
  {
   "cell_type": "code",
   "execution_count": null,
   "metadata": {},
   "outputs": [],
   "source": [
    "model.save(\"./models/Test_Model.h5\")"
   ]
  },
  {
   "cell_type": "code",
   "execution_count": 6,
   "id": "200374ca",
   "metadata": {},
   "outputs": [],
   "source": [
    "# Predicting with the test data\n",
    "labels = np.load(\"./processed_data/labels_test.npy\")\n",
    "\n",
    "\n",
    "X_test = np.load(\"./processed_data/data_test.npy\")\n",
    "\n",
    "#pred = model.predict_classes(X_test)\n",
    "pred = np.argmax(model.predict(X_test), axis=-1)\n",
    "# Accuracy with the test data"
   ]
  },
  {
   "cell_type": "code",
   "execution_count": 7,
   "id": "49021ce1",
   "metadata": {},
   "outputs": [
    {
     "ename": "NameError",
     "evalue": "name 'y_test' is not defined",
     "output_type": "error",
     "traceback": [
      "\u001b[1;31m---------------------------------------------------------------------------\u001b[0m",
      "\u001b[1;31mNameError\u001b[0m                                 Traceback (most recent call last)",
      "\u001b[1;32mC:\\Users\\SINDRE~1\\AppData\\Local\\Temp/ipykernel_92/1224571011.py\u001b[0m in \u001b[0;36m<module>\u001b[1;34m\u001b[0m\n\u001b[1;32m----> 1\u001b[1;33m \u001b[0maccuracy_score\u001b[0m\u001b[1;33m(\u001b[0m\u001b[0my_test\u001b[0m\u001b[1;33m,\u001b[0m \u001b[0mpred\u001b[0m\u001b[1;33m)\u001b[0m\u001b[1;33m\u001b[0m\u001b[1;33m\u001b[0m\u001b[0m\n\u001b[0m",
      "\u001b[1;31mNameError\u001b[0m: name 'y_test' is not defined"
     ]
    }
   ],
   "source": [
    "accuracy_score(y_test, pred)"
   ]
  },
  {
   "cell_type": "code",
   "execution_count": null,
   "id": "26297b1e",
   "metadata": {},
   "outputs": [],
   "source": []
  }
 ],
 "metadata": {
  "interpreter": {
   "hash": "79c9fade3c0eb2420b3d16961ff7594c3c9a3f61106aeb14371016a7b5ee4689"
  },
  "kernelspec": {
   "display_name": "Python 3.8.8 64-bit ('base': conda)",
   "name": "python3"
  },
  "language_info": {
   "codemirror_mode": {
    "name": "ipython",
    "version": 3
   },
   "file_extension": ".py",
   "mimetype": "text/x-python",
   "name": "python",
   "nbconvert_exporter": "python",
   "pygments_lexer": "ipython3",
   "version": "3.8.8"
  }
 },
 "nbformat": 4,
 "nbformat_minor": 5
}
